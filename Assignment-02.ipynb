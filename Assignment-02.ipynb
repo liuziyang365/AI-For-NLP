{
 "cells": [
  {
   "cell_type": "markdown",
   "metadata": {},
   "source": [
    "# Assignment-02, Probability Model A First Look: An Introduction of Language Model"
   ]
  },
  {
   "cell_type": "markdown",
   "metadata": {},
   "source": [
    "## Assignment\n",
    "\n",
    "1. Review the course online programming code; \n",
    "2. Review the main questions; \n",
    "3. Using wikipedia corpus to build a language model. "
   ]
  },
  {
   "cell_type": "markdown",
   "metadata": {},
   "source": [
    "## 1. Review the course online programming code. "
   ]
  },
  {
   "cell_type": "markdown",
   "metadata": {},
   "source": [
    "*In this part, you should re-code the programming task in our online course.*\n",
    "\n",
    "> \n",
    "> \n",
    "\n",
    "> \n",
    "> \n",
    "\n",
    "\n",
    "\n"
   ]
  },
  {
   "cell_type": "code",
   "execution_count": 84,
   "metadata": {
    "collapsed": true
   },
   "outputs": [],
   "source": [
    "import re\n",
    "import pandas as pd\n",
    "from functools import reduce\n",
    "import jieba\n",
    "from collections import Counter\n",
    "import matplotlib.pyplot as plt\n",
    "%matplotlib inline\n",
    "from icecream import ic\n",
    "import random"
   ]
  },
  {
   "cell_type": "code",
   "execution_count": 27,
   "metadata": {
    "collapsed": true
   },
   "outputs": [],
   "source": [
    "path = '/localdisk/pinga/lzy/NLP-class-data/sqlResult_1558435.csv'\n",
    "dataframe = pd.read_csv(path,encoding='gb18030')"
   ]
  },
  {
   "cell_type": "code",
   "execution_count": 28,
   "metadata": {
    "collapsed": true
   },
   "outputs": [],
   "source": [
    "all_articles = dataframe['content'].tolist()"
   ]
  },
  {
   "cell_type": "code",
   "execution_count": 29,
   "metadata": {
    "collapsed": true
   },
   "outputs": [],
   "source": [
    "def token(string):\n",
    "    return ' '.join(re.findall('[\\w|\\d]+', string))"
   ]
  },
  {
   "cell_type": "code",
   "execution_count": 31,
   "metadata": {
    "collapsed": true
   },
   "outputs": [],
   "source": [
    "all_articles = [token(str(s)) for s in all_articles]"
   ]
  },
  {
   "cell_type": "code",
   "execution_count": 34,
   "metadata": {
    "collapsed": true
   },
   "outputs": [],
   "source": [
    "TEXT = ''\n",
    "for a in all_articles:\n",
    "    TEXT += a"
   ]
  },
  {
   "cell_type": "code",
   "execution_count": 43,
   "metadata": {},
   "outputs": [
    {
     "data": {
      "text/plain": [
       "17221785"
      ]
     },
     "execution_count": 43,
     "metadata": {},
     "output_type": "execute_result"
    }
   ],
   "source": [
    "def cut(string):return list(jieba.cut(string))\n",
    "ALL_TOKENS = cut(TEXT)\n",
    "valida_tokens = [t for t in ALL_TOKENS if t.strip() and t != 'n']\n",
    "len(valida_tokens)"
   ]
  },
  {
   "cell_type": "code",
   "execution_count": 46,
   "metadata": {
    "collapsed": true
   },
   "outputs": [],
   "source": [
    "words_count = Counter(valida_tokens)"
   ]
  },
  {
   "cell_type": "code",
   "execution_count": 50,
   "metadata": {},
   "outputs": [
    {
     "data": {
      "text/plain": [
       "[<matplotlib.lines.Line2D at 0x7f1df60da7b8>]"
      ]
     },
     "execution_count": 50,
     "metadata": {},
     "output_type": "execute_result"
    },
    {
     "data": {
      "image/png": "[encoded data removed]",
      "text/plain": [
       "<Figure size 432x288 with 1 Axes>"
      ]
     },
     "metadata": {},
     "output_type": "display_data"
    }
   ],
   "source": [
    "frequences = [f for w, f in words_count.most_common(100)]\n",
    "x = [i for i in range(len(frequences[0:100]))]\n",
    "plt.plot(x,frequences)"
   ]
  },
  {
   "cell_type": "code",
   "execution_count": 52,
   "metadata": {
    "collapsed": true
   },
   "outputs": [],
   "source": [
    "frequences_all = [f for w, f in words_count.most_common()]\n",
    "frequences_sum = sum(frequences_all)"
   ]
  },
  {
   "cell_type": "code",
   "execution_count": 55,
   "metadata": {
    "collapsed": true
   },
   "outputs": [],
   "source": [
    "def get_prob(word):\n",
    "    if word in words_count:\n",
    "        return words_count[word] / frequences_sum\n",
    "    else:\n",
    "        return 1 / frequences_sum"
   ]
  },
  {
   "cell_type": "code",
   "execution_count": 57,
   "metadata": {
    "collapsed": true
   },
   "outputs": [],
   "source": [
    "def product(numbers):\n",
    "    return reduce(lambda n1, n2: n1 * n2, numbers)"
   ]
  },
  {
   "cell_type": "code",
   "execution_count": 61,
   "metadata": {
    "collapsed": true
   },
   "outputs": [],
   "source": [
    "def language_model_one_gram(string):\n",
    "    words = cut(string)\n",
    "    return product([get_prob(w) for w in words])"
   ]
  },
  {
   "cell_type": "code",
   "execution_count": 62,
   "metadata": {},
   "outputs": [
    {
     "name": "stdout",
     "output_type": "stream",
     "text": [
      "这是一个比较正常的句子 7.429984647015532e-22\n",
      "这个一个比较罕见的句子 1.7566783516469408e-22\n",
      "小明毕业于清华大学 3.039960976514903e-18\n",
      "小明毕业于秦华大学 5.813337476916057e-24\n"
     ]
    }
   ],
   "source": [
    "sentences = \"\"\"\n",
    "这是一个比较正常的句子\n",
    "这个一个比较罕见的句子\n",
    "小明毕业于清华大学\n",
    "小明毕业于秦华大学\n",
    "\"\"\".split()\n",
    "\n",
    "\n",
    "for s in sentences:\n",
    "    print(s, language_model_one_gram(s))"
   ]
  },
  {
   "cell_type": "code",
   "execution_count": 63,
   "metadata": {},
   "outputs": [
    {
     "name": "stdout",
     "output_type": "stream",
     "text": [
      "明天晚上请你吃大餐，我们一起吃苹果 is more possible\n",
      "---- 今天晚上请你吃大餐，我们一起吃日料 with probility 6.279484454158278e-50\n",
      "---- 明天晚上请你吃大餐，我们一起吃苹果 with probility 5.1533768284792506e-48\n",
      "真是一只好看的小猫 is more possible\n",
      "---- 真事一只好看的小猫 with probility 2.873219522813593e-25\n",
      "---- 真是一只好看的小猫 with probility 1.0935351206452033e-21\n",
      "今晚我去吃火锅 is more possible\n",
      "---- 我去吃火锅，今晚 with probility 6.876097222574346e-26\n",
      "---- 今晚我去吃火锅 with probility 1.1841866800627252e-18\n"
     ]
    }
   ],
   "source": [
    "need_compared = [\n",
    "    \"今天晚上请你吃大餐，我们一起吃日料 明天晚上请你吃大餐，我们一起吃苹果\",\n",
    "    \"真事一只好看的小猫 真是一只好看的小猫\",\n",
    "    \"我去吃火锅，今晚 今晚我去吃火锅\"\n",
    "]\n",
    "\n",
    "for s in need_compared:\n",
    "    s1, s2 = s.split()\n",
    "    p1, p2 = language_model_one_gram(s1), language_model_one_gram(s2)\n",
    "    \n",
    "    better = s1 if p1 > p2 else s2\n",
    "    \n",
    "    print('{} is more possible'.format(better))\n",
    "    print('-'*4 + ' {} with probility {}'.format(s1, p1))\n",
    "    print('-'*4 + ' {} with probility {}'.format(s2, p2))"
   ]
  },
  {
   "cell_type": "markdown",
   "metadata": {},
   "source": [
    "## 2-Gram"
   ]
  },
  {
   "cell_type": "code",
   "execution_count": 66,
   "metadata": {
    "collapsed": true
   },
   "outputs": [],
   "source": [
    "valid_tokens = [str(t) for t in valida_tokens]\n",
    "all_2_grams_words = [''.join(valid_tokens[i:i+2]) for i in range(len(valid_tokens[:-2]))]"
   ]
  },
  {
   "cell_type": "code",
   "execution_count": 68,
   "metadata": {
    "collapsed": true
   },
   "outputs": [],
   "source": [
    "_2_gram_sum = len(all_2_grams_words)\n",
    "_2_gram_counter = Counter(all_2_grams_words)\n",
    "\n",
    "def get_combination_prob(w1, w2):\n",
    "    if w1 + w2 in _2_gram_counter:return _2_gram_counter[w1+w2] / _2_gram_sum\n",
    "    else:\n",
    "        return 1 / _2_gram_sum"
   ]
  },
  {
   "cell_type": "code",
   "execution_count": 72,
   "metadata": {
    "collapsed": true
   },
   "outputs": [],
   "source": [
    "def get_prob_2_gram(w1, w2):\n",
    "    return get_combination_prob(w1, w2) / get_prob(w1)"
   ]
  },
  {
   "cell_type": "code",
   "execution_count": 78,
   "metadata": {
    "collapsed": true
   },
   "outputs": [],
   "source": [
    "def language_model_of_2_gram(sentence):\n",
    "    sentence_probability = 1\n",
    "    words = cut(sentence)\n",
    "    for i, word in enumerate(words):\n",
    "        if i == 0:\n",
    "            prob = get_prob(word)\n",
    "        else:\n",
    "            previous = words[i-1]\n",
    "            prob = get_prob_2_gram(previous, word)\n",
    "        sentence_probability *= prob\n",
    "    return sentence_probability"
   ]
  },
  {
   "cell_type": "code",
   "execution_count": 82,
   "metadata": {
    "scrolled": true
   },
   "outputs": [
    {
     "name": "stdout",
     "output_type": "stream",
     "text": [
      "今天晚上请你吃大餐，我们一起吃日料 is more possible\n",
      "---- 今天晚上请你吃大餐，我们一起吃日料 with probility 6.895905640955031e-28\n",
      "---- 明天晚上请你吃大餐，我们一起吃苹果 with probility 5.516724512764024e-28\n",
      "真是一只好看的小猫 is more possible\n",
      "---- 真事一只好看的小猫 with probility 1.6570998748154123e-19\n",
      "---- 真是一只好看的小猫 with probility 3.4765951336188093e-16\n",
      "今晚我去吃火锅 is more possible\n",
      "---- 今晚我去吃火锅 with probility 6.82225584071837e-14\n",
      "---- 今晚火锅去吃我 with probility 9.986004768787415e-16\n",
      "养乐多绿来一杯 is more possible\n",
      "---- 洋葱奶昔来一杯 with probility 1.0579577386518395e-12\n",
      "---- 养乐多绿来一杯 with probility 5.806600374258542e-08\n"
     ]
    }
   ],
   "source": [
    "need_compared = [\n",
    "    \"今天晚上请你吃大餐，我们一起吃日料 明天晚上请你吃大餐，我们一起吃苹果\",\n",
    "    \"真事一只好看的小猫 真是一只好看的小猫\",\n",
    "    \"今晚我去吃火锅 今晚火锅去吃我\",\n",
    "    \"洋葱奶昔来一杯 养乐多绿来一杯\"\n",
    "]\n",
    "\n",
    "for s in need_compared:\n",
    "    s1, s2 = s.split()\n",
    "    p1, p2 = language_model_of_2_gram(s1), language_model_of_2_gram(s2)\n",
    "    \n",
    "    better = s1 if p1 > p2 else s2\n",
    "    \n",
    "    print('{} is more possible'.format(better))\n",
    "    print('-'*4 + ' {} with probility {}'.format(s1, p1))\n",
    "    print('-'*4 + ' {} with probility {}'.format(s2, p2))"
   ]
  },
  {
   "cell_type": "code",
   "execution_count": 87,
   "metadata": {
    "collapsed": true
   },
   "outputs": [],
   "source": [
    "grammar = \"\"\"\n",
    "sentence => noun_phrase verb_phrase \n",
    "noun_phrase => Article Adj* noun belong \n",
    "belong => de property\n",
    "de => 的\n",
    "property => 眼睛 | 裙子 | 胳膊 | 尾巴\n",
    "Adj* => null | Adj Adj*\n",
    "verb_phrase => verb noun_phrase\n",
    "Article =>  一个 | 这个\n",
    "noun =>   女人 |  篮球 | 桌子 | 小猫\n",
    "verb => 看着   |  坐在 |  听着 | 看见\n",
    "Adj =>   蓝色的 |  好看的 | 小小的\n",
    "\"\"\""
   ]
  },
  {
   "cell_type": "code",
   "execution_count": 88,
   "metadata": {
    "collapsed": true
   },
   "outputs": [],
   "source": [
    "def parse_grammar(grammar_str, sep='=>'):\n",
    "    grammar = {}\n",
    "    for line in grammar_str.split('\\n'): \n",
    "        line = line.strip()\n",
    "        if not line: continue\n",
    "        \n",
    "        target, rules = line.split(sep)\n",
    "        \n",
    "        grammar[target.strip()] = [r.split() for r in rules.split('|')]\n",
    "    \n",
    "    return grammar\n",
    "\n",
    "def gene(grammar_parsed, target='sentence'):\n",
    "    if target not in grammar_parsed: return target\n",
    "    \n",
    "    rule = random.choice(grammar_parsed[target])\n",
    "    return ''.join(gene(grammar_parsed, target=r) for r in rule if r!='null')"
   ]
  },
  {
   "cell_type": "code",
   "execution_count": 90,
   "metadata": {},
   "outputs": [
    {
     "data": {
      "text/plain": [
       "['这个女人的尾巴看着这个女人的裙子',\n",
       " '一个篮球的尾巴看见这个女人的眼睛',\n",
       " '这个篮球的裙子看着这个桌子的眼睛',\n",
       " '一个桌子的尾巴看见这个桌子的胳膊',\n",
       " '这个桌子的眼睛坐在这个女人的胳膊',\n",
       " '一个女人的尾巴听着一个小小的女人的眼睛',\n",
       " '一个小猫的眼睛看见这个篮球的眼睛',\n",
       " '这个桌子的胳膊看见这个桌子的尾巴',\n",
       " '这个篮球的胳膊坐在一个桌子的眼睛',\n",
       " '这个小小的小猫的裙子看着一个女人的眼睛',\n",
       " '这个小猫的眼睛坐在这个女人的裙子',\n",
       " '一个桌子的眼睛看见一个桌子的裙子',\n",
       " '这个小猫的裙子听着一个女人的尾巴',\n",
       " '一个篮球的裙子看着一个桌子的眼睛',\n",
       " '一个小猫的尾巴坐在一个小小的女人的胳膊',\n",
       " '一个篮球的胳膊看见这个小猫的裙子',\n",
       " '一个桌子的眼睛坐在一个篮球的胳膊',\n",
       " '一个小猫的尾巴看着一个桌子的胳膊',\n",
       " '一个篮球的裙子看着这个篮球的裙子',\n",
       " '这个女人的胳膊坐在一个小小的篮球的尾巴',\n",
       " '一个篮球的尾巴看见这个篮球的尾巴',\n",
       " '一个小猫的裙子看着一个小猫的尾巴',\n",
       " '一个篮球的尾巴看着这个小小的桌子的裙子',\n",
       " '这个桌子的眼睛看着一个篮球的尾巴',\n",
       " '一个篮球的尾巴听着这个女人的裙子',\n",
       " '一个篮球的眼睛听着一个篮球的眼睛',\n",
       " '这个篮球的尾巴听着这个篮球的眼睛',\n",
       " '这个小小的桌子的眼睛看着一个桌子的裙子',\n",
       " '这个好看的小猫的裙子看见一个女人的眼睛',\n",
       " '这个桌子的尾巴听着一个小小的小小的女人的眼睛',\n",
       " '一个好看的小猫的裙子看见这个女人的胳膊',\n",
       " '这个好看的女人的裙子坐在这个女人的胳膊',\n",
       " '一个好看的桌子的眼睛看见这个桌子的眼睛',\n",
       " '这个女人的尾巴看着一个好看的桌子的眼睛',\n",
       " '一个蓝色的女人的眼睛看见这个篮球的胳膊',\n",
       " '这个好看的女人的眼睛听着一个女人的裙子',\n",
       " '一个好看的小猫的裙子看着这个小猫的尾巴',\n",
       " '一个好看的桌子的裙子看见一个篮球的眼睛',\n",
       " '这个小小的小小的篮球的裙子坐在这个篮球的胳膊',\n",
       " '一个好看的篮球的眼睛看着这个小猫的裙子',\n",
       " '这个小小的女人的胳膊看着这个蓝色的小猫的胳膊',\n",
       " '一个小小的女人的尾巴看着这个蓝色的桌子的胳膊',\n",
       " '一个篮球的胳膊看见这个蓝色的小猫的裙子',\n",
       " '这个篮球的裙子听着一个好看的女人的胳膊',\n",
       " '一个蓝色的小猫的眼睛看着一个篮球的眼睛',\n",
       " '这个篮球的胳膊看见一个蓝色的篮球的胳膊',\n",
       " '这个小猫的尾巴坐在这个蓝色的小猫的尾巴',\n",
       " '一个篮球的尾巴坐在这个好看的篮球的胳膊',\n",
       " '这个小小的桌子的胳膊坐在一个好看的桌子的尾巴',\n",
       " '一个篮球的尾巴听着一个蓝色的女人的尾巴',\n",
       " '这个篮球的眼睛听着一个好看的小猫的裙子',\n",
       " '一个小小的女人的眼睛听着这个蓝色的桌子的裙子',\n",
       " '一个蓝色的蓝色的篮球的尾巴看着这个女人的眼睛',\n",
       " '一个小小的蓝色的小小的篮球的胳膊看见一个女人的裙子',\n",
       " '一个蓝色的小小的篮球的眼睛看着这个小猫的胳膊',\n",
       " '一个桌子的眼睛坐在一个好看的蓝色的女人的裙子',\n",
       " '这个蓝色的小小的小猫的裙子看见这个篮球的裙子',\n",
       " '这个好看的桌子的胳膊坐在一个好看的女人的尾巴',\n",
       " '这个蓝色的小小的小猫的胳膊坐在一个篮球的尾巴',\n",
       " '这个蓝色的桌子的尾巴看见一个好看的女人的尾巴',\n",
       " '一个好看的桌子的裙子坐在一个蓝色的女人的尾巴',\n",
       " '这个小小的好看的蓝色的桌子的眼睛看见这个女人的裙子',\n",
       " '一个小小的小猫的眼睛坐在这个蓝色的蓝色的女人的胳膊',\n",
       " '这个好看的小小的小小的桌子的眼睛看见这个小猫的裙子',\n",
       " '一个蓝色的蓝色的小猫的胳膊看着一个桌子的裙子',\n",
       " '一个蓝色的好看的小猫的裙子看见这个桌子的裙子',\n",
       " '这个好看的蓝色的桌子的尾巴听着这个篮球的眼睛',\n",
       " '一个蓝色的桌子的胳膊坐在这个好看的桌子的尾巴',\n",
       " '这个小小的好看的桌子的眼睛看见一个蓝色的小猫的胳膊',\n",
       " '这个蓝色的篮球的裙子看着一个好看的桌子的裙子',\n",
       " '这个女人的尾巴看见这个小小的蓝色的好看的篮球的尾巴',\n",
       " '这个蓝色的好看的桌子的尾巴看着这个篮球的裙子',\n",
       " '一个小小的篮球的裙子坐在这个好看的蓝色的小猫的裙子',\n",
       " '一个女人的眼睛看见一个蓝色的小小的好看的桌子的胳膊',\n",
       " '一个篮球的胳膊坐在这个小小的蓝色的蓝色的桌子的裙子',\n",
       " '一个好看的小小的桌子的裙子坐在一个好看的篮球的眼睛',\n",
       " '这个小小的蓝色的桌子的尾巴听着这个好看的女人的尾巴',\n",
       " '一个好看的小小的篮球的胳膊坐在一个好看的小猫的眼睛',\n",
       " '一个好看的小小的蓝色的小猫的裙子看着这个小小的桌子的眼睛',\n",
       " '一个好看的小小的好看的女人的眼睛看见一个小猫的尾巴',\n",
       " '一个女人的眼睛坐在这个好看的蓝色的好看的女人的眼睛',\n",
       " '这个蓝色的女人的尾巴看见这个蓝色的小小的小猫的裙子',\n",
       " '一个好看的好看的小小的小猫的尾巴坐在这个女人的尾巴',\n",
       " '这个好看的蓝色的好看的桌子的胳膊看见这个小猫的眼睛',\n",
       " '这个好看的蓝色的桌子的裙子听着这个好看的女人的胳膊',\n",
       " '这个小小的小小的小小的小猫的眼睛看见一个小小的蓝色的小小的篮球的裙子',\n",
       " '一个好看的好看的好看的女人的胳膊坐在这个女人的裙子',\n",
       " '一个小小的桌子的眼睛坐在这个蓝色的蓝色的好看的篮球的胳膊',\n",
       " '这个好看的蓝色的桌子的胳膊坐在一个好看的小小的桌子的尾巴',\n",
       " '一个好看的好看的小小的蓝色的篮球的裙子看见这个篮球的胳膊',\n",
       " '一个篮球的尾巴看着这个蓝色的小小的好看的好看的桌子的尾巴',\n",
       " '一个蓝色的蓝色的小猫的眼睛坐在这个好看的好看的小猫的眼睛',\n",
       " '一个好看的蓝色的好看的好看的篮球的眼睛看见这个女人的裙子',\n",
       " '这个蓝色的小小的小猫的裙子听着这个蓝色的好看的篮球的胳膊',\n",
       " '这个蓝色的女人的裙子看着这个小小的蓝色的好看的小小的小小的小猫的裙子',\n",
       " '这个小小的好看的小小的小小的小猫的裙子坐在一个小小的蓝色的蓝色的小猫的尾巴',\n",
       " '这个蓝色的小小的小猫的胳膊看着一个好看的好看的蓝色的篮球的胳膊',\n",
       " '这个好看的小小的蓝色的小小的好看的小小的女人的眼睛听着这个女人的尾巴',\n",
       " '这个小猫的尾巴听着一个蓝色的蓝色的好看的好看的小小的小小的小猫的胳膊',\n",
       " '这个蓝色的桌子的眼睛听着这个好看的好看的蓝色的蓝色的小小的蓝色的篮球的裙子']"
      ]
     },
     "execution_count": 90,
     "metadata": {},
     "output_type": "execute_result"
    }
   ],
   "source": [
    "g = parse_grammar(grammar)\n",
    "random_generated = [gene(g) for _ in range(100)]\n",
    "sorted(random_generated, key=language_model_of_2_gram, reverse=True)\n"
   ]
  },
  {
   "cell_type": "markdown",
   "metadata": {},
   "source": [
    "## 2. Review the main points of this lesson. "
   ]
  },
  {
   "cell_type": "markdown",
   "metadata": {},
   "source": [
    "##### 1. How to Github and Why do we use Jupyter and Pycharm; "
   ]
  },
  {
   "cell_type": "markdown",
   "metadata": {},
   "source": [
    "Ans:  \n",
    "下载：git clone +网址  \n",
    "上传：先git add  再git commit 最后 git push  \n",
    "Jupyter 交互式编程，便于学习和教学  \n",
    "Pycharm IDE,用于开发"
   ]
  },
  {
   "cell_type": "markdown",
   "metadata": {},
   "source": [
    "##### 2. What's the Probability Model?"
   ]
  },
  {
   "cell_type": "markdown",
   "metadata": {},
   "source": [
    "Ans:  \n",
    "在对事物的判断基于概率"
   ]
  },
  {
   "cell_type": "markdown",
   "metadata": {},
   "source": [
    "##### 3. Can you came up with some sceneraies at which we could use Probability Model?"
   ]
  },
  {
   "cell_type": "markdown",
   "metadata": {},
   "source": [
    "Ans:   \n",
    "信用卡违约风险预测  \n",
    "CTR预估    \n",
    "情感识别  "
   ]
  },
  {
   "cell_type": "markdown",
   "metadata": {},
   "source": [
    "##### 4. Why do we use probability and what's the difficult points for programming based on parsing and pattern match? \n"
   ]
  },
  {
   "cell_type": "markdown",
   "metadata": {},
   "source": [
    "Ans:  \n",
    "使用probability是为了能够应对未定义模式语句的出现，能够应对变化，降低过拟合。  \n",
    "基于parsing和Pattern的方法太过于依赖语言学家对于语句规则的制定，容易过拟合。"
   ]
  },
  {
   "cell_type": "markdown",
   "metadata": {},
   "source": [
    "##### 5. What's the Language Model;"
   ]
  },
  {
   "cell_type": "markdown",
   "metadata": {},
   "source": [
    "Ans:  \n",
    "计算一个句子生成的概率的模型"
   ]
  },
  {
   "cell_type": "markdown",
   "metadata": {},
   "source": [
    "#####  6. Can you came up with some sceneraies at which we could use Language Model?"
   ]
  },
  {
   "cell_type": "markdown",
   "metadata": {},
   "source": [
    "Ans:  \n",
    "语音识别  \n",
    "机器翻译  "
   ]
  },
  {
   "cell_type": "markdown",
   "metadata": {},
   "source": [
    "##### 7. What's the 1-gram language model;"
   ]
  },
  {
   "cell_type": "markdown",
   "metadata": {},
   "source": [
    "Ans:  \n",
    "每个gram之间相互独立"
   ]
  },
  {
   "cell_type": "markdown",
   "metadata": {},
   "source": [
    "##### 8. What's the disadvantages and advantages of 1-gram language model;"
   ]
  },
  {
   "cell_type": "markdown",
   "metadata": {},
   "source": [
    "Ans:  \n",
    "优点：简化模型，方便计算  \n",
    "缺点：过于简化，忽略了真实情况，欠拟合。"
   ]
  },
  {
   "cell_type": "markdown",
   "metadata": {},
   "source": [
    "##### 9.  What't the 2-gram models; "
   ]
  },
  {
   "cell_type": "markdown",
   "metadata": {},
   "source": [
    "Ans:  \n",
    "每个gram之间不再相互独立，每个gram的概率为依赖于另一个gram的条件概率"
   ]
  },
  {
   "cell_type": "markdown",
   "metadata": {},
   "source": [
    "##### 10. what's the web crawler, and can you implement a simple crawler? "
   ]
  },
  {
   "cell_type": "markdown",
   "metadata": {},
   "source": [
    "Ans:  \n",
    "爬虫 即为通过编写程序自动获取网页上的信息"
   ]
  },
  {
   "cell_type": "markdown",
   "metadata": {},
   "source": [
    "##### 11.  There may be some issues to make our crwaler programming difficult, what are these, and how do we solve them?"
   ]
  },
  {
   "cell_type": "markdown",
   "metadata": {},
   "source": [
    "Ans:  \n",
    "难点：需要补充部分前端知识  \n",
    "同时也要对计算机网络中的部分协议有所了解  "
   ]
  },
  {
   "cell_type": "markdown",
   "metadata": {},
   "source": [
    "##### 12. What't the Regular Expression and how to use?"
   ]
  },
  {
   "cell_type": "markdown",
   "metadata": {},
   "source": [
    "Ans:  \n",
    "RE：以某种规则完成对文本的匹配，搜索等一系列操作  \n",
    "python中通过导入re进行使用"
   ]
  },
  {
   "cell_type": "markdown",
   "metadata": {},
   "source": [
    "## 3. Using Wikipedia dataset to finish the language model. "
   ]
  },
  {
   "cell_type": "markdown",
   "metadata": {},
   "source": [
    "Step 1: You need to download the corpus from wikipedis:\n",
    "> https://dumps.wikimedia.org/zhwiki/20190401/\n",
    "\n",
    "Step 2: You may need the help of wiki-extractor:\n",
    "\n",
    "> https://github.com/attardi/wikiextractor\n",
    "\n",
    "Step 3: Using the technologies and methods to finish the language model; \n",
    "> \n",
    "\n",
    "Step 4: Try some interested sentence pairs, and check if your model could fit them\n",
    "\n",
    "> \n",
    "\n",
    "Step 5: If we need to solve following problems, how can language model help us? \n",
    "\n",
    "+ Voice Recognization.\n",
    "+ Sogou *pinyin* input.\n",
    "+ Auto correction in search engine. \n",
    "+ Abnormal Detection."
   ]
  },
  {
   "cell_type": "markdown",
   "metadata": {},
   "source": [
    "### Compared to the previous learned parsing and pattern match problems. What's the advantage and disavantage of Probability Based Methods? "
   ]
  },
  {
   "cell_type": "markdown",
   "metadata": {},
   "source": [
    "Ans:  \n",
    "优势：与先前的方法相比相当于放宽了模型的限制，扩大了模型的适用范围。  \n",
    "缺点： 需要一定的先验知识，要对样本概率分布有一定的假设，当假设不正确时，模型失效。"
   ]
  },
  {
   "cell_type": "markdown",
   "metadata": {},
   "source": [
    "## (Optional)  How to solve *OOV* problem?\n",
    "\n",
    "If some words are not in our dictionary or corpus. When we using language model, we need to overcome this `out-of-vocabulary`(OOV) problems. There are so many intelligent man to solve this probelm. \n",
    "\n",
    "-- \n",
    "\n",
    "The first question is: \n",
    "\n",
    "**Q1: How did you solve this problem in your programming task?**"
   ]
  },
  {
   "cell_type": "markdown",
   "metadata": {},
   "source": [
    "Ans: "
   ]
  },
  {
   "cell_type": "markdown",
   "metadata": {},
   "source": [
    "Then, the sencond question is: "
   ]
  },
  {
   "cell_type": "markdown",
   "metadata": {},
   "source": [
    "**Q2: Read about the 'Turing-Good Estimator', can explain the main points about this method, and may implement this method in your programming task**\n",
    "\n",
    "Reference: \n",
    "+ https://www.wikiwand.com/en/Good%E2%80%93Turing_frequency_estimation\n",
    "+ https://github.com/Computing-Intelligence/References/blob/master/NLP/Natural-Language-Processing.pdf, Page-37"
   ]
  },
  {
   "cell_type": "markdown",
   "metadata": {},
   "source": [
    "> coding in here"
   ]
  }
 ],
 "metadata": {
  "kernelspec": {
   "display_name": "Python 3",
   "language": "python",
   "name": "python3"
  },
  "language_info": {
   "codemirror_mode": {
    "name": "ipython",
    "version": 3
   },
   "file_extension": ".py",
   "mimetype": "text/x-python",
   "name": "python",
   "nbconvert_exporter": "python",
   "pygments_lexer": "ipython3",
   "version": "3.6.7"
  }
 },
 "nbformat": 4,
 "nbformat_minor": 2
}
